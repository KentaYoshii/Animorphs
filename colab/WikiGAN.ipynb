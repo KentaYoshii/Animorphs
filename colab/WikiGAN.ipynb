{
  "cells": [
    {
      "cell_type": "markdown",
      "metadata": {
        "colab_type": "text",
        "id": "view-in-github"
      },
      "source": [
        "<a href=\"https://colab.research.google.com/github/ns90001/Animorphs/blob/master/StyleGAN_Paintings.ipynb\" target=\"_parent\"><img src=\"https://colab.research.google.com/assets/colab-badge.svg\" alt=\"Open In Colab\"/></a>"
      ]
    },
    {
      "cell_type": "code",
      "execution_count": null,
      "metadata": {
        "colab": {
          "base_uri": "https://localhost:8080/"
        },
        "id": "dth87ejLUErS",
        "outputId": "69644621-72d9-4f19-8412-c33cd25f0d8c",
        "vscode": {
          "languageId": "python"
        }
      },
      "outputs": [],
      "source": [
        "!git clone https://github.com/NVlabs/stylegan"
      ]
    },
    {
      "cell_type": "code",
      "execution_count": null,
      "metadata": {
        "colab": {
          "base_uri": "https://localhost:8080/"
        },
        "id": "hFDqNCtbVFRw",
        "outputId": "20ccdae8-717b-4dc3-f1d2-8f9a5f427751",
        "vscode": {
          "languageId": "python"
        }
      },
      "outputs": [],
      "source": [
        "%cd stylegan"
      ]
    },
    {
      "cell_type": "code",
      "execution_count": null,
      "metadata": {
        "colab": {
          "base_uri": "https://localhost:8080/"
        },
        "id": "d_D6JUMwX0uj",
        "outputId": "f148ba1c-c619-4838-ffc8-59cd98f6e6c5",
        "vscode": {
          "languageId": "python"
        }
      },
      "outputs": [],
      "source": [
        "!wget https://github.com/parameter-pollution/stylegan_paintings/releases/download/v0.1/network-snapshot-008040.pkl\n"
      ]
    },
    {
      "cell_type": "code",
      "execution_count": null,
      "metadata": {
        "colab": {
          "base_uri": "https://localhost:8080/"
        },
        "id": "FBZjFLEWkEP1",
        "outputId": "a3c82114-ae07-44db-a8fb-20c18ee8765e",
        "vscode": {
          "languageId": "python"
        }
      },
      "outputs": [],
      "source": [
        "%tensorflow_version 1.x"
      ]
    },
    {
      "cell_type": "code",
      "execution_count": null,
      "metadata": {
        "colab": {
          "base_uri": "https://localhost:8080/"
        },
        "id": "jJRPjAU3Tn-K",
        "outputId": "e29e08a4-8a0e-4bf7-e0db-e802f42fbe44",
        "vscode": {
          "languageId": "python"
        }
      },
      "outputs": [],
      "source": [
        "import os\n",
        "import pickle\n",
        "import numpy as np\n",
        "import PIL.Image\n",
        "import dnnlib\n",
        "import dnnlib.tflib as tflib\n",
        "import config"
      ]
    },
    {
      "cell_type": "code",
      "execution_count": null,
      "metadata": {
        "colab": {
          "base_uri": "https://localhost:8080/"
        },
        "id": "CURu1JHLTn-N",
        "outputId": "888d9872-d9e6-4260-b099-c0a08aa4b2a0",
        "vscode": {
          "languageId": "python"
        }
      },
      "outputs": [],
      "source": [
        "tflib.init_tf()"
      ]
    },
    {
      "cell_type": "code",
      "execution_count": 7,
      "metadata": {
        "id": "_deS5kycTn-S",
        "vscode": {
          "languageId": "python"
        }
      },
      "outputs": [],
      "source": [
        "model_path = \"./network-snapshot-008040.pkl\""
      ]
    },
    {
      "cell_type": "code",
      "execution_count": null,
      "metadata": {
        "colab": {
          "base_uri": "https://localhost:8080/"
        },
        "id": "j62EfW7MTn-X",
        "outputId": "c0546e94-07c8-4708-8a80-1bc8b4227d6d",
        "vscode": {
          "languageId": "python"
        }
      },
      "outputs": [],
      "source": [
        "with open(model_path,\"rb\") as f:\n",
        "        _G, _D, Gs = pickle.load(f)"
      ]
    },
    {
      "cell_type": "code",
      "execution_count": 158,
      "metadata": {
        "id": "3eTrOtS0COkx",
        "vscode": {
          "languageId": "python"
        }
      },
      "outputs": [],
      "source": [
        "latent_vector1 = np.random.randn(1, Gs.input_shape[1])\n",
        "latent_vector2 = np.random.randn(1, Gs.input_shape[1])"
      ]
    },
    {
      "cell_type": "code",
      "execution_count": 161,
      "metadata": {
        "id": "4ujvjJnvmexK",
        "vscode": {
          "languageId": "python"
        }
      },
      "outputs": [],
      "source": [
        "#rnd = np.random.RandomState(1337)\n",
        "\n",
        "# latent_vector1 = np.random.randn(1, Gs.input_shape[1])\n",
        "# latent_vector2 = np.random.randn(1, Gs.input_shape[1])\n",
        "\n",
        "number_of_frames = 480\n",
        "\n",
        "frame_step = 1.0/number_of_frames\n",
        "x = 0\n",
        "for frame_count in range(1,number_of_frames):\n",
        "    x = x + frame_step\n",
        "    latent_input = x*latent_vector2 + (1-x)*latent_vector1\n",
        "    # latent_input = latent_vector1.copy()\n",
        "    # for i in range(512):\n",
        "    #     f1 = latent_vector1[0][i]\n",
        "    #     f2 = latent_vector2[0][i]\n",
        "    #     if f1 > f2:\n",
        "    #         tmp = f2\n",
        "    #         f2 = f1\n",
        "    #         f1 = tmp\n",
        "    #     fnew = f1 + (f2-f1)*x\n",
        "    #     latent_input[0][i] = fnew\n",
        "    images = Gs.run(latent_input, None, truncation_psi=1, randomize_noise=False, output_transform=fmt)\n",
        "\n",
        "    # Save image.\n",
        "    os.makedirs(config.result_dir, exist_ok=True)\n",
        "    png_filename = os.path.join(config.result_dir, 'animation_'+str(frame_count)+'.png')\n",
        "    PIL.Image.fromarray(images[0], 'RGB').save(png_filename)"
      ]
    },
    {
      "cell_type": "code",
      "execution_count": null,
      "metadata": {
        "colab": {
          "base_uri": "https://localhost:8080/"
        },
        "id": "DnE8DOW5rL2X",
        "outputId": "87b8dd59-fa58-421c-f1db-2c7b587f58b8",
        "vscode": {
          "languageId": "python"
        }
      },
      "outputs": [],
      "source": [
        "import os\n",
        "if os.path.exists('./output.mp4'):\n",
        "   os.remove('./output.mp4')\n",
        "\n",
        "! ffmpeg -framerate 30 -i results/animation_%d.png -vcodec libx264 -pix_fmt yuv420p output.mp4\n"
      ]
    },
    {
      "cell_type": "code",
      "execution_count": null,
      "metadata": {
        "colab": {
          "base_uri": "https://localhost:8080/",
          "height": 637
        },
        "id": "dmp72mjArZxR",
        "outputId": "b7a4ce7e-809e-44d5-b775-1e9ca290a01b",
        "vscode": {
          "languageId": "python"
        }
      },
      "outputs": [],
      "source": [
        "from IPython.display import HTML\n",
        "from base64 import b64encode\n",
        "\n",
        "mp4 = open('output.mp4', 'rb').read()\n",
        "data_url = 'data:video/mp4;base64,' + b64encode(mp4).decode()\n",
        "HTML(f\"\"\"\n",
        "<video width=\"50%\" height=\"50%\" controls>\n",
        "      <source src=\"{data_url}\" type=\"video/mp4\">\n",
        "</video>\"\"\")"
      ]
    },
    {
      "cell_type": "code",
      "execution_count": 9,
      "metadata": {
        "id": "8espVfz2Tn-a",
        "vscode": {
          "languageId": "python"
        }
      },
      "outputs": [],
      "source": [
        "fmt = dict(func=tflib.convert_images_to_uint8, nchw_to_nhwc=True)"
      ]
    },
    {
      "cell_type": "code",
      "execution_count": 10,
      "metadata": {
        "id": "CFTTlYAaTn-c",
        "vscode": {
          "languageId": "python"
        }
      },
      "outputs": [],
      "source": [
        "# change this number to get a different image \n",
        "rnd = np.random.RandomState(42)"
      ]
    },
    {
      "cell_type": "code",
      "execution_count": 138,
      "metadata": {
        "id": "_k1Whau7Tn-e",
        "vscode": {
          "languageId": "python"
        }
      },
      "outputs": [],
      "source": [
        "#rerun this line to get a different image\n",
        "latent_vector1 = np.random.randn(1, Gs.input_shape[1])"
      ]
    },
    {
      "cell_type": "code",
      "execution_count": null,
      "metadata": {
        "colab": {
          "base_uri": "https://localhost:8080/",
          "height": 529
        },
        "id": "L59bqd2WarsR",
        "outputId": "dde56a27-e60e-476e-98a1-2b8ab0c265e3",
        "vscode": {
          "languageId": "python"
        }
      },
      "outputs": [],
      "source": [
        "images = Gs.run(latent_vector1, None, truncation_psi=1, randomize_noise=False, output_transform=fmt)\n",
        "PIL.Image.fromarray(images[0])"
      ]
    }
  ],
  "metadata": {
    "accelerator": "GPU",
    "colab": {
      "collapsed_sections": [],
      "include_colab_link": true,
      "name": "StyleGAN_Paintings.ipynb",
      "provenance": []
    },
    "kernelspec": {
      "display_name": "Python 3",
      "name": "python3"
    }
  },
  "nbformat": 4,
  "nbformat_minor": 0
}
